{
 "cells": [
  {
   "cell_type": "code",
   "execution_count": 1,
   "metadata": {},
   "outputs": [
    {
     "name": "stderr",
     "output_type": "stream",
     "text": [
      "/root/miniconda3/envs/lab/lib/python3.9/site-packages/tqdm/auto.py:22: TqdmWarning: IProgress not found. Please update jupyter and ipywidgets. See https://ipywidgets.readthedocs.io/en/stable/user_install.html\n",
      "  from .autonotebook import tqdm as notebook_tqdm\n"
     ]
    },
    {
     "data": {
      "text/plain": [
       "'ultra detailed portrait shot of a beautiful woman, screaming, dissolving with vivid liquid smoke. light vard manifedipped tic light halfresticks, something, natural lighting, 8k, intricate details, written paper in the style of artstation, concept art,'"
      ]
     },
     "execution_count": 1,
     "metadata": {},
     "output_type": "execute_result"
    }
   ],
   "source": [
    "import os\n",
    "from transformers import CLIPTokenizer\n",
    "\n",
    "import env\n",
    "from textGen import SentenceGenerator\n",
    "\n",
    "\n",
    "MODEL_NAME = os.getenv('MODEL_NAME')\n",
    "TEXTGEN_MODEL_PATH = os.getenv('TEXTGEN_MODEL_PATH')\n",
    "\n",
    "tokenizer = CLIPTokenizer.from_pretrained(MODEL_NAME, subfolder='tokenizer')\n",
    "\n",
    "generator = SentenceGenerator(TEXTGEN_MODEL_PATH, tokenizer)\n",
    "generator.generate(temperature=1)"
   ]
  }
 ],
 "metadata": {
  "kernelspec": {
   "display_name": "Python 3.9.7 ('lab')",
   "language": "python",
   "name": "python3"
  },
  "language_info": {
   "codemirror_mode": {
    "name": "ipython",
    "version": 3
   },
   "file_extension": ".py",
   "mimetype": "text/x-python",
   "name": "python",
   "nbconvert_exporter": "python",
   "pygments_lexer": "ipython3",
   "version": "3.9.7"
  },
  "orig_nbformat": 4,
  "vscode": {
   "interpreter": {
    "hash": "559ac8c3a936a466693162aba0678bd1dca28c36485208963509806f12acae84"
   }
  }
 },
 "nbformat": 4,
 "nbformat_minor": 2
}
