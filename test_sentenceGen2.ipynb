{
 "cells": [
  {
   "cell_type": "code",
   "execution_count": 2,
   "metadata": {},
   "outputs": [
    {
     "data": {
      "text/plain": [
       "'sumptuous digital painting, super detailed lighting, smooth, sharp focus, photorealistic, high detail, 8k, cinematic lighting, intricate,'"
      ]
     },
     "execution_count": 2,
     "metadata": {},
     "output_type": "execute_result"
    }
   ],
   "source": [
    "import os\n",
    "from transformers import CLIPTokenizer\n",
    "\n",
    "import env\n",
    "from textGen import SentenceGenerator\n",
    "\n",
    "\n",
    "MODEL_NAME = os.getenv('MODEL_NAME')\n",
    "TEXTGEN_MODEL_PATH = os.getenv('TEXTGEN_MODEL_PATH')\n",
    "\n",
    "tokenizer = CLIPTokenizer.from_pretrained(MODEL_NAME, subfolder='tokenizer')\n",
    "\n",
    "generator = SentenceGenerator(TEXTGEN_MODEL_PATH, tokenizer)\n",
    "generator.generate(temperature=1)"
   ]
  }
 ],
 "metadata": {
  "kernelspec": {
   "display_name": "Python 3.9.7 ('lab')",
   "language": "python",
   "name": "python3"
  },
  "language_info": {
   "codemirror_mode": {
    "name": "ipython",
    "version": 3
   },
   "file_extension": ".py",
   "mimetype": "text/x-python",
   "name": "python",
   "nbconvert_exporter": "python",
   "pygments_lexer": "ipython3",
   "version": "3.9.7"
  },
  "orig_nbformat": 4,
  "vscode": {
   "interpreter": {
    "hash": "559ac8c3a936a466693162aba0678bd1dca28c36485208963509806f12acae84"
   }
  }
 },
 "nbformat": 4,
 "nbformat_minor": 2
}
