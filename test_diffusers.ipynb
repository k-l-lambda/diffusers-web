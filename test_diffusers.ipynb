{
 "cells": [
  {
   "cell_type": "code",
   "execution_count": null,
   "metadata": {},
   "outputs": [],
   "source": [
    "import os\n",
    "import env\n",
    "\n",
    "\n",
    "TOKEN = os.getenv('HF_TOKEN')\n",
    "MODEL_NAME = os.getenv('MODEL_NAME')\n"
   ]
  },
  {
   "cell_type": "code",
   "execution_count": null,
   "metadata": {},
   "outputs": [],
   "source": [
    "from pipeline_stable_diffusion import StableDiffusionPipeline\n",
    "\n",
    "\n",
    "pipe = StableDiffusionPipeline.from_pretrained(MODEL_NAME, use_auth_token=TOKEN)\n",
    "pipe.to(\"cuda\")\n"
   ]
  },
  {
   "cell_type": "code",
   "execution_count": null,
   "metadata": {},
   "outputs": [],
   "source": [
    "import matplotlib.pyplot as plt\n",
    "\n",
    "\n",
    "prompt = [\"a photograph of an astronaut standing on europa surface, the giant marvellous striped jupiter half exposed on horizon masking the most of sky\"]\n",
    "\n",
    "result = pipe.generate(prompt, num_inference_steps=50)\n",
    "\n",
    "for img in result['images']:\n",
    "\tdisplay(img)\n"
   ]
  },
  {
   "cell_type": "code",
   "execution_count": null,
   "metadata": {},
   "outputs": [],
   "source": [
    "import torch\n",
    "\n",
    "source = result['images'][0]\n",
    "mask = torch.ones((1, 4, 64, 64))\n",
    "mask[:, :, 20:58, 20:38] = 0\n",
    "\n",
    "ipresult = pipe.inpaint('The giant jupiter planent', source, mask)\n",
    "\n",
    "ipresult['images'][0]\n"
   ]
  }
 ],
 "metadata": {
  "kernelspec": {
   "display_name": "Python 3.9.7 ('lab')",
   "language": "python",
   "name": "python3"
  },
  "language_info": {
   "codemirror_mode": {
    "name": "ipython",
    "version": 3
   },
   "file_extension": ".py",
   "mimetype": "text/x-python",
   "name": "python",
   "nbconvert_exporter": "python",
   "pygments_lexer": "ipython3",
   "version": "3.9.7"
  },
  "orig_nbformat": 4,
  "vscode": {
   "interpreter": {
    "hash": "559ac8c3a936a466693162aba0678bd1dca28c36485208963509806f12acae84"
   }
  }
 },
 "nbformat": 4,
 "nbformat_minor": 2
}
