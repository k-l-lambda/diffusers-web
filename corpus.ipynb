{
 "cells": [
  {
   "cell_type": "code",
   "execution_count": 8,
   "metadata": {},
   "outputs": [
    {
     "name": "stdout",
     "output_type": "stream",
     "text": [
      "123 119\n"
     ]
    },
    {
     "data": {
      "text/plain": [
       "23716"
      ]
     },
     "execution_count": 8,
     "metadata": {},
     "output_type": "execute_result"
    }
   ],
   "source": [
    "# merge duplicated sentences in templates.txt\n",
    "file = open('./corpus/templates.txt', 'r')\n",
    "templates_txt = file.read()\n",
    "sentences = templates_txt.split('\\n')\n",
    "sentences = [s for s in sentences if s]\n",
    "\n",
    "unique_sentences = sorted(set(sentences))\n",
    "\n",
    "print(len(sentences), len(unique_sentences))\n",
    "\n",
    "new_txt = '\\n'.join(unique_sentences)\n",
    "\n",
    "ofile = open('./corpus/templates-u.txt', 'w')\n",
    "ofile.write(new_txt)\n"
   ]
  }
 ],
 "metadata": {
  "kernelspec": {
   "display_name": "Python 3.6.9 64-bit",
   "language": "python",
   "name": "python3"
  },
  "language_info": {
   "codemirror_mode": {
    "name": "ipython",
    "version": 3
   },
   "file_extension": ".py",
   "mimetype": "text/x-python",
   "name": "python",
   "nbconvert_exporter": "python",
   "pygments_lexer": "ipython3",
   "version": "3.6.9"
  },
  "orig_nbformat": 4,
  "vscode": {
   "interpreter": {
    "hash": "31f2aee4e71d21fbe5cf8b01ff0e069b9275f58929596ceb00d14d90e3e16cd6"
   }
  }
 },
 "nbformat": 4,
 "nbformat_minor": 2
}
